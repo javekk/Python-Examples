{
 "cells": [
  {
   "cell_type": "markdown",
   "metadata": {},
   "source": [
    "### Some easy examples\n",
    "\n",
    "Just to get familar with the language, start with the diffenree between **List** and **numpy Array**\n",
    "\n",
    "The main difference between lists and numpy arrays is the functions which you can do with them. For example, you can divide an array by 5, and each number in the array will be divided but you can't on a list and moreover arrays are faster and "
   ]
  },
  {
   "cell_type": "code",
   "execution_count": 17,
   "metadata": {
    "scrolled": true
   },
   "outputs": [
    {
     "name": "stdout",
     "output_type": "stream",
     "text": [
      "[20, 30, 40]\n",
      "[4 6]\n"
     ]
    }
   ],
   "source": [
    "import numpy as np\n",
    "\n",
    "listtt = [20,30,40]\n",
    "#listtt/=5 # <--- error\n",
    "print(listtt)\n",
    "arrayyy = np.array([20,30,40])\n",
    "arrayyy/=5\n",
    "print(arrayyy[arrayyy < 7])"
   ]
  },
  {
   "cell_type": "markdown",
   "metadata": {},
   "source": [
    "### Generators\n",
    "\n",
    "Easy to implement but difficult to understand\n",
    "\n",
    "A Generator is a function which returns an iterable set of items, one at a time, in a special way.\n",
    "\n",
    "Every time afor statement yield a number, generators gives one.\n"
   ]
  },
  {
   "cell_type": "code",
   "execution_count": 16,
   "metadata": {},
   "outputs": [
    {
     "name": "stdout",
     "output_type": "stream",
     "text": [
      "And the next number is... 1!\n"
     ]
    }
   ],
   "source": [
    "import random\n",
    "\n",
    "def lottery():\n",
    "    a, b = 1, 1\n",
    "    while 1:\n",
    "        yield a\n",
    "        a, b = b, a + b \n",
    "    \n",
    "counter = 0\n",
    "for i in lottery():\n",
    "    counter+=1\n",
    "    print(\"And the next number is... %d!\" %(i))\n",
    "    if (counter == 10):\n",
    "        break"
   ]
  },
  {
   "cell_type": "code",
   "execution_count": null,
   "metadata": {},
   "outputs": [],
   "source": []
  }
 ],
 "metadata": {
  "kernelspec": {
   "display_name": "Python 2",
   "language": "python",
   "name": "python2"
  },
  "language_info": {
   "codemirror_mode": {
    "name": "ipython",
    "version": 2
   },
   "file_extension": ".py",
   "mimetype": "text/x-python",
   "name": "python",
   "nbconvert_exporter": "python",
   "pygments_lexer": "ipython2",
   "version": "2.7.15"
  }
 },
 "nbformat": 4,
 "nbformat_minor": 2
}

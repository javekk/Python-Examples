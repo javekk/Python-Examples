{
 "cells": [
  {
   "cell_type": "markdown",
   "metadata": {},
   "source": [
    "### Some easy examples\n",
    "\n",
    "Just to get familar with the language, start with the diffenree between **List** and **numpy Array**\n",
    "\n",
    "The main difference between lists and numpy arrays is the functions which you can do with them. For example, you can divide an array by 5, and each number in the array will be divided but you can't on a list and moreover arrays are faster and "
   ]
  },
  {
   "cell_type": "code",
   "execution_count": 17,
   "metadata": {
    "scrolled": true
   },
   "outputs": [
    {
     "name": "stdout",
     "output_type": "stream",
     "text": [
      "[20, 30, 40]\n",
      "[4 6]\n"
     ]
    }
   ],
   "source": [
    "import numpy as np\n",
    "\n",
    "listtt = [20,30,40]\n",
    "#listtt/=5 # <--- error\n",
    "print(listtt)\n",
    "arrayyy = np.array([20,30,40])\n",
    "arrayyy/=5\n",
    "print(arrayyy[arrayyy < 7])"
   ]
  },
  {
   "cell_type": "markdown",
   "metadata": {},
   "source": [
    "### Generators\n",
    "\n",
    "Easy to implement but difficult to understand\n",
    "\n",
    "A Generator is a function which returns an iterable set of items, one at a time, in a special way.\n",
    "\n",
    "Every time afor statement yield a number, generators gives one.\n"
   ]
  },
  {
   "cell_type": "code",
   "execution_count": 18,
   "metadata": {},
   "outputs": [
    {
     "name": "stdout",
     "output_type": "stream",
     "text": [
      "And the next number is... 1!\n",
      "And the next number is... 1!\n",
      "And the next number is... 2!\n",
      "And the next number is... 3!\n",
      "And the next number is... 5!\n",
      "And the next number is... 8!\n",
      "And the next number is... 13!\n",
      "And the next number is... 21!\n",
      "And the next number is... 34!\n",
      "And the next number is... 55!\n",
      "And the next number is... 89!\n",
      "And the next number is... 144!\n",
      "And the next number is... 233!\n",
      "And the next number is... 377!\n",
      "And the next number is... 610!\n",
      "And the next number is... 987!\n",
      "And the next number is... 1597!\n",
      "And the next number is... 2584!\n",
      "And the next number is... 4181!\n",
      "And the next number is... 6765!\n"
     ]
    }
   ],
   "source": [
    "import random\n",
    "\n",
    "def lottery():\n",
    "    a, b = 1, 1\n",
    "    while 1:\n",
    "        yield a\n",
    "        a, b = b, a + b \n",
    "    \n",
    "counter = 0\n",
    "fib = 20\n",
    "for i in lottery():\n",
    "    counter+=1\n",
    "    print(\"And the next number is... %d!\" %(i))\n",
    "    if (counter == fib):\n",
    "        break"
   ]
  },
  {
   "cell_type": "markdown",
   "metadata": {},
   "source": [
    "### List Comprehensions\n",
    "\n",
    "Task: create a list of integers which specify the length of each word in a certain sentence, but only if the word is not the word \"the\""
   ]
  },
  {
   "cell_type": "code",
   "execution_count": 1,
   "metadata": {},
   "outputs": [
    {
     "name": "stdout",
     "output_type": "stream",
     "text": [
      "['the', 'quick', 'brown', 'fox', 'jumps', 'over', 'the', 'lazy', 'dog']\n",
      "[5, 5, 3, 5, 4, 4, 3]\n"
     ]
    }
   ],
   "source": [
    "sentence = \"the quick brown fox jumps over the lazy dog\"\n",
    "words = sentence.split()\n",
    "word_lengths = [len(word) for word in words if word != \"the\"]\n",
    "print(words)\n",
    "print(word_lengths)"
   ]
  },
  {
   "cell_type": "markdown",
   "metadata": {},
   "source": [
    "now only positive number as integer"
   ]
  },
  {
   "cell_type": "code",
   "execution_count": 2,
   "metadata": {},
   "outputs": [
    {
     "name": "stdout",
     "output_type": "stream",
     "text": [
      "[34, 44, 68, 44, 12]\n"
     ]
    }
   ],
   "source": [
    "numbers = [34.6, -203.4, 44.9, 68.3, -12.2, 44.6, 12.7]\n",
    "newlist = [int(x) for x in numbers if x > 0]\n",
    "print(newlist)"
   ]
  },
  {
   "cell_type": "markdown",
   "metadata": {},
   "source": [
    "### Multiple Function Arguments\n",
    "\n",
    "\n",
    "It is possible to send functions arguments by keyword, so that the order of the argument does not matter, using the following syntax:"
   ]
  },
  {
   "cell_type": "code",
   "execution_count": 7,
   "metadata": {},
   "outputs": [
    {
     "name": "stdout",
     "output_type": "stream",
     "text": [
      "Drinks: \n",
      "      :cola\n",
      "      :beer\n",
      "Food: \n",
      "      :hambuger\n",
      "      :fries\n",
      "all the parts: \n",
      "      :food\n",
      "      :drinks\n"
     ]
    }
   ],
   "source": [
    "def bar(**orders):\n",
    "    print(\"Drinks: \")\n",
    "    for drink in orders.get(\"drinks\"):\n",
    "        print(\"      :%s\" %(drink))\n",
    "\n",
    "    print(\"Food: \")\n",
    "    for food in orders.get(\"food\"):\n",
    "        print(\"      :%s\" %(food)) \n",
    "        \n",
    "    print(\"all the parts: \")\n",
    "    for all in orders:\n",
    "        print(\"      :%s\" %(all)) \n",
    "    \n",
    "\n",
    "bar(drinks = [\"cola\",\"beer\"], food = [\"hambuger\",\"fries\"], others = [\"cane\"])"
   ]
  },
  {
   "cell_type": "markdown",
   "metadata": {},
   "source": [
    "### Regular Expressions\n",
    "\n",
    "YEEEE"
   ]
  },
  {
   "cell_type": "code",
   "execution_count": 8,
   "metadata": {},
   "outputs": [
    {
     "name": "stdout",
     "output_type": "stream",
     "text": [
      "Pass\n",
      "Pass\n",
      "Pass\n"
     ]
    }
   ],
   "source": [
    "#Match Emails\n",
    "import re\n",
    "def test_email(your_pattern):\n",
    "    pattern = re.compile(your_pattern)\n",
    "    emails = [\"john@example.com\", \"python-list@python.org\", \"wha.t.`1an?ug{}ly@email.com\"]\n",
    "    for email in emails:\n",
    "        if not re.match(pattern, email):\n",
    "            print(\"You failed to match %s\" % (email))\n",
    "        elif not your_pattern:\n",
    "            print(\"Forgot to enter a pattern!\")\n",
    "        else:\n",
    "            print(\"Pass\")\n",
    "# Your pattern here!\n",
    "pattern = r\"\\\"?([-a-zA-Z0-9.`?{}]+@\\w+\\.\\w+)\\\"?\"\n",
    "test_email(pattern)"
   ]
  },
  {
   "cell_type": "markdown",
   "metadata": {},
   "source": [
    "### Exception Handling\n",
    "\n"
   ]
  },
  {
   "cell_type": "code",
   "execution_count": 15,
   "metadata": {},
   "outputs": [
    {
     "name": "stdout",
     "output_type": "stream",
     "text": [
      "1\n",
      "2\n",
      "3\n",
      "4\n",
      "5\n",
      "something wrong happened\n",
      "0\n",
      "something wrong happened\n",
      "0\n",
      "something wrong happened\n",
      "0\n",
      "something wrong happened\n",
      "0\n",
      "something wrong happened\n",
      "0\n"
     ]
    }
   ],
   "source": [
    "def do_stuff_with_number(n):\n",
    "        print(n)\n",
    "\n",
    "the_list = (1, 2, 3, 4, 5)\n",
    "\n",
    "for i in range(10):\n",
    "    try:\n",
    "        do_stuff_with_number(the_list[i])\n",
    "    except IndexError: # Raised when accessing a non-existing index of a list\n",
    "        # print(\"something wrong happened\") # print the error, or \n",
    "        do_stuff_with_number(0)             # handle the exception"
   ]
  },
  {
   "cell_type": "markdown",
   "metadata": {},
   "source": [
    "### SETS"
   ]
  },
  {
   "cell_type": "code",
   "execution_count": 23,
   "metadata": {},
   "outputs": [
    {
     "name": "stdout",
     "output_type": "stream",
     "text": [
      "set(['and', 'is', 'my', 'name', 'Eric'])\n",
      "set(['Jake', 'John', 'Eric'])\n",
      "set(['Jill', 'John'])\n",
      "==\n",
      "intersection\n",
      "set(['John'])\n",
      "set(['John'])\n",
      "==\n",
      "symmetric difference\n",
      "set(['Jill', 'Jake', 'Eric'])\n",
      "set(['Jill', 'Jake', 'Eric'])\n",
      "==\n",
      "difference\n",
      "set(['Jake', 'Eric'])\n",
      "set(['Jill'])\n",
      "==\n",
      "union\n",
      "set(['Jill', 'Jake', 'John', 'Eric'])\n"
     ]
    }
   ],
   "source": [
    "print(set(\"my name is Eric and Eric is my name\".split())) #No copies \n",
    "\n",
    "a = set([\"Jake\", \"John\", \"Eric\"])\n",
    "print(a)\n",
    "b = set([\"John\", \"Jill\"])\n",
    "print(b)\n",
    "\n",
    "\n",
    "print(\"==\")\n",
    "print(\"intersection\")\n",
    "print(a.intersection(b))\n",
    "print(b.intersection(a))\n",
    "\n",
    "\n",
    "print(\"==\")\n",
    "print(\"symmetric difference\")\n",
    "print(a.symmetric_difference(b)) #To find out which members attended only one of the events\n",
    "print(b.symmetric_difference(a))\n",
    "\n",
    "\n",
    "print(\"==\")\n",
    "print(\"difference\")\n",
    "print(a.difference(b))\n",
    "print(b.difference(a))\n",
    "\n",
    "\n",
    "print(\"==\")\n",
    "print(\"union\")\n",
    "print(a.union(b))"
   ]
  },
  {
   "cell_type": "markdown",
   "metadata": {},
   "source": [
    "### Partial functions\n",
    "\n",
    "Very useful in several situations but I cannot remember any of them right now eheheh\n"
   ]
  },
  {
   "cell_type": "code",
   "execution_count": 25,
   "metadata": {},
   "outputs": [
    {
     "name": "stdout",
     "output_type": "stream",
     "text": [
      "8\n"
     ]
    }
   ],
   "source": [
    "from functools import partial\n",
    "\n",
    "def multiply(x,y):\n",
    "        return x * y\n",
    "\n",
    "# create a new function that multiplies by 2\n",
    "dbl = partial(multiply,2)\n",
    "print(dbl(4))"
   ]
  },
  {
   "cell_type": "markdown",
   "metadata": {},
   "source": [
    "### Closures"
   ]
  },
  {
   "cell_type": "code",
   "execution_count": 30,
   "metadata": {},
   "outputs": [
    {
     "ename": "SyntaxError",
     "evalue": "invalid syntax (<ipython-input-30-34c206d5cfdf>, line 4)",
     "output_type": "error",
     "traceback": [
      "\u001b[0;36m  File \u001b[0;32m\"<ipython-input-30-34c206d5cfdf>\"\u001b[0;36m, line \u001b[0;32m4\u001b[0m\n\u001b[0;31m    nonlocal number\u001b[0m\n\u001b[0m                  ^\u001b[0m\n\u001b[0;31mSyntaxError\u001b[0m\u001b[0;31m:\u001b[0m invalid syntax\n"
     ]
    }
   ],
   "source": [
    "def print_msg(number):\n",
    "    def printer():\n",
    "        \"Here we are using the nonlocal keyword\"\n",
    "        nonlocal number \n",
    "        print(number)\n",
    "    printer()\n",
    "    print(number)\n",
    "\n",
    "print_msg(9)"
   ]
  }
 ],
 "metadata": {
  "kernelspec": {
   "display_name": "Python 2",
   "language": "python",
   "name": "python2"
  },
  "language_info": {
   "codemirror_mode": {
    "name": "ipython",
    "version": 2
   },
   "file_extension": ".py",
   "mimetype": "text/x-python",
   "name": "python",
   "nbconvert_exporter": "python",
   "pygments_lexer": "ipython2",
   "version": "2.7.15"
  }
 },
 "nbformat": 4,
 "nbformat_minor": 2
}
